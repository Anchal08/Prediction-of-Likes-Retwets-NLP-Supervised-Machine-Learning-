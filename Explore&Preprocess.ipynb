{
 "cells": [
  {
   "cell_type": "markdown",
   "metadata": {},
   "source": [
    "# Data Extraction"
   ]
  },
  {
   "cell_type": "code",
   "execution_count": null,
   "metadata": {},
   "outputs": [],
   "source": [
    "import tweepy\n",
    "import csv\n",
    "import pandas as pd\n",
    "####input your credentials here\n",
    "#consumer_key = 'aSuYAwIDEvZvfXNzpGTsLYsbR'\n",
    "#onsumer_secret = 'sUFtxWThulUJAFdVj8x58ks0nnusUvvIdZZE74lT0cf3RBdXEn'\n",
    "#access_token = '1088864398968586240-qZC478ilf53rfPZiehWtN91HQlYpDg'\n",
    "#access_token_secret = 'd0C3uTQXVvcaMoJvInx37mfIMlL1CUU9wTZyeY6LYJUHv'\n",
    "\n",
    "auth = tweepy.OAuthHandler(consumer_key, consumer_secret)\n",
    "auth.set_access_token(access_token, access_token_secret)\n",
    "api = tweepy.API(auth,wait_on_rate_limit=True)\n",
    "#####United Airlines\n",
    "# Open/Create a file to append data\n",
    "csvFile = open('C:\\\\Users\\\\ganch\\\\Desktop\\\\twitterData_new_vis.csv', 'a')\n",
    "#Use csv Writer\n",
    "csvWriter = csv.writer(csvFile)\n",
    "\n",
    "for tweet in tweepy.Cursor(api.search,q=\"DataScience\",\n",
    "                           lang=\"en\",\n",
    "                           since=\"2018-01-01\").items():\n",
    "    #print (tweet.created_at, tweet.text)\n",
    "    csvWriter.writerow([tweet.created_at,tweet.retweet_count,tweet.favorite_count,tweet.text.encode(\"utf-8\")])"
   ]
  },
  {
   "cell_type": "markdown",
   "metadata": {},
   "source": [
    "# Data Import After Cleaning in R"
   ]
  },
  {
   "cell_type": "code",
   "execution_count": 1,
   "metadata": {},
   "outputs": [],
   "source": [
    "import pandas as pd\n",
    "df = pd.read_csv(\"C:\\\\Users\\\\ganch\\\\Desktop\\\\Independent Study\\\\python_twitter_collection_sample\\\\concat_cleaned_data.csv\",names = [\"Created\", \"Retweet\", \"Likes\", \"Text\",\"Cleaned_Text\"])"
   ]
  },
  {
   "cell_type": "code",
   "execution_count": 3,
   "metadata": {},
   "outputs": [],
   "source": [
    "data=df.drop_duplicates(subset=\"Text\")"
   ]
  },
  {
   "cell_type": "markdown",
   "metadata": {},
   "source": [
    "# Data Cleaning"
   ]
  },
  {
   "cell_type": "code",
   "execution_count": 5,
   "metadata": {},
   "outputs": [],
   "source": [
    "import re\n",
    "list1=[]\n",
    "for i in data.Cleaned_Text.values:\n",
    "    \n",
    "    t= ' '.join(re.sub(\"(@[A-Za-z0-9]+)|([^0-9A-Za-z \\t])|(http\\S+)\", \" \", str(i)).split())\n",
    "    \n",
    "    t=re.sub(\"RT\",\" \",t)\n",
    "    t=re.sub(\"[^a-zA-Z]\", \" \", t)\n",
    "    t = re.sub(r'\\d+',\" \",t)\n",
    "    t=re.sub(\"gt\", \" \",t)\n",
    "    t = re.sub(\"http\",\" \",t)\n",
    "    t = re.sub(\"https\",\" \",t)\n",
    "    t = re.sub(\"^www.\",\" \",t)\n",
    "    t = re.sub(\".*\\.com$\",\" \",t)\n",
    "    shortword = re.compile(r'\\W*\\b\\w{1,3}\\b')\n",
    "    t = shortword.sub('',t)\n",
    "    \n",
    "    \n",
    "    list1.append(t)"
   ]
  },
  {
   "cell_type": "code",
   "execution_count": 6,
   "metadata": {
    "collapsed": true
   },
   "outputs": [
    {
     "name": "stderr",
     "output_type": "stream",
     "text": [
      "C:\\Users\\ganch\\Anaconda3\\lib\\site-packages\\ipykernel_launcher.py:1: SettingWithCopyWarning: \n",
      "A value is trying to be set on a copy of a slice from a DataFrame.\n",
      "Try using .loc[row_indexer,col_indexer] = value instead\n",
      "\n",
      "See the caveats in the documentation: http://pandas.pydata.org/pandas-docs/stable/indexing.html#indexing-view-versus-copy\n",
      "  \"\"\"Entry point for launching an IPython kernel.\n"
     ]
    }
   ],
   "source": [
    "data[\"Cleaned_Text\"]=list1"
   ]
  },
  {
   "cell_type": "markdown",
   "metadata": {},
   "source": [
    "# NLTK for stopwords"
   ]
  },
  {
   "cell_type": "code",
   "execution_count": 1,
   "metadata": {
    "collapsed": true
   },
   "outputs": [
    {
     "name": "stdout",
     "output_type": "stream",
     "text": [
      "showing info https://raw.githubusercontent.com/nltk/nltk_data/gh-pages/index.xml\n",
      "Success\n"
     ]
    }
   ],
   "source": [
    "import nltk\n",
    "import ssl\n",
    "try:\n",
    "    _create_unverified_https_context = ssl._create_unverified_context\n",
    "except AttributeError:\n",
    "    pass\n",
    "else:\n",
    "    ssl._create_default_https_context = _create_unverified_https_context\n",
    "nltk.download()\n",
    "from nltk.corpus import stopwords\n",
    "\n",
    "print('Success')"
   ]
  },
  {
   "cell_type": "code",
   "execution_count": 8,
   "metadata": {
    "collapsed": true
   },
   "outputs": [
    {
     "name": "stderr",
     "output_type": "stream",
     "text": [
      "C:\\Users\\ganch\\Anaconda3\\lib\\site-packages\\ipykernel_launcher.py:1: SettingWithCopyWarning: \n",
      "A value is trying to be set on a copy of a slice from a DataFrame.\n",
      "Try using .loc[row_indexer,col_indexer] = value instead\n",
      "\n",
      "See the caveats in the documentation: http://pandas.pydata.org/pandas-docs/stable/indexing.html#indexing-view-versus-copy\n",
      "  \"\"\"Entry point for launching an IPython kernel.\n"
     ]
    },
    {
     "data": {
      "text/html": [
       "<div>\n",
       "<style scoped>\n",
       "    .dataframe tbody tr th:only-of-type {\n",
       "        vertical-align: middle;\n",
       "    }\n",
       "\n",
       "    .dataframe tbody tr th {\n",
       "        vertical-align: top;\n",
       "    }\n",
       "\n",
       "    .dataframe thead th {\n",
       "        text-align: right;\n",
       "    }\n",
       "</style>\n",
       "<table border=\"1\" class=\"dataframe\">\n",
       "  <thead>\n",
       "    <tr style=\"text-align: right;\">\n",
       "      <th></th>\n",
       "      <th>Retweet</th>\n",
       "      <th>Likes</th>\n",
       "      <th>Text Length</th>\n",
       "    </tr>\n",
       "  </thead>\n",
       "  <tbody>\n",
       "    <tr>\n",
       "      <th>count</th>\n",
       "      <td>228553.000000</td>\n",
       "      <td>228553.000000</td>\n",
       "      <td>228553.000000</td>\n",
       "    </tr>\n",
       "    <tr>\n",
       "      <th>mean</th>\n",
       "      <td>2.161936</td>\n",
       "      <td>2.273656</td>\n",
       "      <td>101.331884</td>\n",
       "    </tr>\n",
       "    <tr>\n",
       "      <th>std</th>\n",
       "      <td>23.737615</td>\n",
       "      <td>11.682637</td>\n",
       "      <td>35.982382</td>\n",
       "    </tr>\n",
       "    <tr>\n",
       "      <th>min</th>\n",
       "      <td>0.000000</td>\n",
       "      <td>0.000000</td>\n",
       "      <td>0.000000</td>\n",
       "    </tr>\n",
       "    <tr>\n",
       "      <th>25%</th>\n",
       "      <td>0.000000</td>\n",
       "      <td>0.000000</td>\n",
       "      <td>79.000000</td>\n",
       "    </tr>\n",
       "    <tr>\n",
       "      <th>50%</th>\n",
       "      <td>0.000000</td>\n",
       "      <td>1.000000</td>\n",
       "      <td>96.000000</td>\n",
       "    </tr>\n",
       "    <tr>\n",
       "      <th>75%</th>\n",
       "      <td>2.000000</td>\n",
       "      <td>2.000000</td>\n",
       "      <td>114.000000</td>\n",
       "    </tr>\n",
       "    <tr>\n",
       "      <th>max</th>\n",
       "      <td>8162.000000</td>\n",
       "      <td>2719.000000</td>\n",
       "      <td>590.000000</td>\n",
       "    </tr>\n",
       "  </tbody>\n",
       "</table>\n",
       "</div>"
      ],
      "text/plain": [
       "             Retweet          Likes    Text Length\n",
       "count  228553.000000  228553.000000  228553.000000\n",
       "mean        2.161936       2.273656     101.331884\n",
       "std        23.737615      11.682637      35.982382\n",
       "min         0.000000       0.000000       0.000000\n",
       "25%         0.000000       0.000000      79.000000\n",
       "50%         0.000000       1.000000      96.000000\n",
       "75%         2.000000       2.000000     114.000000\n",
       "max      8162.000000    2719.000000     590.000000"
      ]
     },
     "execution_count": 8,
     "metadata": {},
     "output_type": "execute_result"
    }
   ],
   "source": [
    "data['Text Length'] = data['Cleaned_Text'].str.len()\n",
    "data.describe()"
   ]
  },
  {
   "cell_type": "markdown",
   "metadata": {},
   "source": [
    "# Bar Plots"
   ]
  },
  {
   "cell_type": "code",
   "execution_count": 142,
   "metadata": {
    "collapsed": true
   },
   "outputs": [
    {
     "data": {
      "image/png": "[encoded data removed]",
      "text/plain": [
       "<Figure size 2160x288 with 1 Axes>"
      ]
     },
     "metadata": {
      "needs_background": "light"
     },
     "output_type": "display_data"
    }
   ],
   "source": [
    "import matplotlib.pyplot as plt\n",
    "import seaborn as sns\n",
    "f = sns.countplot(data['Text Length'],orient = 'v')\n",
    "f.set_xticklabels(f.get_xticklabels(), rotation=90, ha=\"right\")\n",
    "\n",
    "# s = sns.countplot(data['Likes'])\n",
    "# s.set(xlim= (0,100))\n",
    "f.set(xlim= (10,150))\n",
    "\n",
    "plt.rcParams[\"figure.figsize\"] = (30, 4)\n",
    "#plt.invert_yaxis() \n",
    "\n",
    "#fig, axs = plt.subplot(1, 4, sharey=True, tight_layout=True)\n",
    "# plt.figure(figsize=(15, 3))\n",
    "# plt.subplot(1, 6, 1)\n",
    "# plt.tight_layout()\n",
    "# # d = data['Retweet'].to_frame()\n",
    "# # print(type(d))\n",
    "# data['Retweet'].plot.hist(cumulative=False,histtype='bar',title=\"Retweets\",xlim= (0,10))\n",
    "# #data['Retweet'].plot\n",
    "# #plt.show()\n",
    "# plt.subplot(1, 6, 3)\n",
    "# data['Likes'].plot.hist(cumulative=False,title=\"Likes\")\n",
    "# #plt.show()\n",
    "# plt.subplot(1, 6, 5)\n",
    "# data['Text Length'].plot.hist(cumulative=False,bins=20,title=\"Text Length\")\n",
    "# plt.show()"
   ]
  },
  {
   "cell_type": "markdown",
   "metadata": {},
   "source": [
    "# Box Plots"
   ]
  },
  {
   "cell_type": "code",
   "execution_count": 17,
   "metadata": {
    "collapsed": true
   },
   "outputs": [
    {
     "data": {
      "image/png": "[encoded data removed]",
      "text/plain": [
       "<Figure size 720x360 with 3 Axes>"
      ]
     },
     "metadata": {
      "needs_background": "light"
     },
     "output_type": "display_data"
    }
   ],
   "source": [
    "plt.figure(figsize=(10, 5))\n",
    "plt.subplot(1, 6, 1)\n",
    "plt.tight_layout()\n",
    "data['Retweet'].plot(kind='box',title=\"Retweets\")\n",
    "#plt.show()\n",
    "plt.subplot(1, 6, 3)\n",
    "data['Likes'].plot(kind='box',title=\"Likes\")\n",
    "#plt.show()\n",
    "plt.subplot(1, 6, 5)\n",
    "data['Text Length'].plot(kind='box',title=\"Text Length\")\n",
    "plt.show()"
   ]
  },
  {
   "cell_type": "markdown",
   "metadata": {},
   "source": [
    "# Scatter Matrix"
   ]
  },
  {
   "cell_type": "code",
   "execution_count": 143,
   "metadata": {
    "collapsed": true
   },
   "outputs": [
    {
     "data": {
      "image/png": "[encoded data removed]",
      "text/plain": [
       "<Figure size 720x720 with 9 Axes>"
      ]
     },
     "metadata": {
      "needs_background": "light"
     },
     "output_type": "display_data"
    }
   ],
   "source": [
    "temp = pd.plotting.scatter_matrix(data, diagonal=\"kde\", figsize=(10, 10))"
   ]
  },
  {
   "cell_type": "markdown",
   "metadata": {},
   "source": [
    "# Correlation"
   ]
  },
  {
   "cell_type": "code",
   "execution_count": 148,
   "metadata": {
    "collapsed": true
   },
   "outputs": [
    {
     "data": {
      "text/plain": [
       "<matplotlib.axes._subplots.AxesSubplot at 0x2472f8e2908>"
      ]
     },
     "execution_count": 148,
     "metadata": {},
     "output_type": "execute_result"
    },
    {
     "data": {
      "image/png": "[encoded data removed]",
      "text/plain": [
       "<Figure size 576x288 with 2 Axes>"
      ]
     },
     "metadata": {
      "needs_background": "light"
     },
     "output_type": "display_data"
    }
   ],
   "source": [
    "import seaborn as sns\n",
    "\n",
    "\n",
    "# calculate the correlation matrix\n",
    "corr = data.corr()\n",
    "plt.rcParams[\"figure.figsize\"] = (8, 4)\n",
    "\n",
    "# plot the heatmap\n",
    "sns.heatmap(corr, \n",
    "        xticklabels=corr.columns,\n",
    "        yticklabels=corr.columns)\n",
    "#ax = sns.heatmap(heatmap_data['Retweet','Likes','Text Length'])"
   ]
  },
  {
   "cell_type": "markdown",
   "metadata": {},
   "source": [
    "# Outlier Removal"
   ]
  },
  {
   "cell_type": "code",
   "execution_count": 149,
   "metadata": {},
   "outputs": [],
   "source": [
    "## removing outlier data\n",
    "\n",
    "def rm_outliers(data,column):\n",
    "    Q1 = data[column].quantile(0.25)\n",
    "    Q3 = data[column].quantile(0.75)\n",
    "    IQR = Q3 - Q1\n",
    "    \n",
    "    non_outliers = (data[column] >= Q1-(3*IQR)) & (data[column] <= Q3 + (3.5*IQR))\n",
    "    outlier_reduction = data.loc[non_outliers]\n",
    "    return outlier_reduction"
   ]
  },
  {
   "cell_type": "code",
   "execution_count": 150,
   "metadata": {
    "collapsed": true
   },
   "outputs": [
    {
     "data": {
      "text/plain": [
       "212470"
      ]
     },
     "execution_count": 150,
     "metadata": {},
     "output_type": "execute_result"
    }
   ],
   "source": [
    "## Title lengths that performed better \n",
    "#plt.figure(figsize=(10, 5))\n",
    "data_retweet = pd.DataFrame()\n",
    "#plt.subplot(1, 6, 1)\n",
    "#plt.tight_layout()\n",
    "#print(data.head(10))\n",
    "#len(data['Retweet'])\n",
    "data_retweet = rm_outliers(data, 'Retweet')\n",
    "#data_retweet.head(10)\n",
    "\n",
    "data_likes = rm_outliers(data_retweet, 'Likes')\n",
    "data_likes.head(10)\n",
    "\n",
    "data_text_length = rm_outliers(data_likes, 'Text Length')\n",
    "data_text_length.count()\n",
    "\n",
    "#len(data_text_length)\n",
    "\n",
    "data_after_outlier = data_text_length\n",
    "#list(data_retweet)\n",
    "len(data_after_outlier)"
   ]
  },
  {
   "cell_type": "code",
   "execution_count": 151,
   "metadata": {
    "collapsed": true
   },
   "outputs": [
    {
     "name": "stderr",
     "output_type": "stream",
     "text": [
      "C:\\Users\\ganch\\Anaconda3\\lib\\site-packages\\pandas\\core\\frame.py:3940: SettingWithCopyWarning: \n",
      "A value is trying to be set on a copy of a slice from a DataFrame\n",
      "\n",
      "See the caveats in the documentation: http://pandas.pydata.org/pandas-docs/stable/indexing.html#indexing-view-versus-copy\n",
      "  errors=errors)\n"
     ]
    },
    {
     "data": {
      "text/html": [
       "<div>\n",
       "<style scoped>\n",
       "    .dataframe tbody tr th:only-of-type {\n",
       "        vertical-align: middle;\n",
       "    }\n",
       "\n",
       "    .dataframe tbody tr th {\n",
       "        vertical-align: top;\n",
       "    }\n",
       "\n",
       "    .dataframe thead th {\n",
       "        text-align: right;\n",
       "    }\n",
       "</style>\n",
       "<table border=\"1\" class=\"dataframe\">\n",
       "  <thead>\n",
       "    <tr style=\"text-align: right;\">\n",
       "      <th></th>\n",
       "      <th>Created</th>\n",
       "      <th>Retweet</th>\n",
       "      <th>Likes</th>\n",
       "      <th>Cleaned_Text</th>\n",
       "      <th>Text Length</th>\n",
       "    </tr>\n",
       "  </thead>\n",
       "  <tbody>\n",
       "    <tr>\n",
       "      <th>0</th>\n",
       "      <td>12/21/2015 18:55</td>\n",
       "      <td>0</td>\n",
       "      <td>5</td>\n",
       "      <td>Very Hadoopy Christmas   hortonworkscomblogav...</td>\n",
       "      <td>104</td>\n",
       "    </tr>\n",
       "    <tr>\n",
       "      <th>1</th>\n",
       "      <td>12/21/2015 18:51</td>\n",
       "      <td>1</td>\n",
       "      <td>2</td>\n",
       "      <td>keep good customers fire customers dont need ...</td>\n",
       "      <td>80</td>\n",
       "    </tr>\n",
       "    <tr>\n",
       "      <th>2</th>\n",
       "      <td>12/21/2015 18:48</td>\n",
       "      <td>0</td>\n",
       "      <td>1</td>\n",
       "      <td>Improving Fingerprinting Machine Learning acad...</td>\n",
       "      <td>142</td>\n",
       "    </tr>\n",
       "    <tr>\n",
       "      <th>3</th>\n",
       "      <td>12/21/2015 18:47</td>\n",
       "      <td>0</td>\n",
       "      <td>0</td>\n",
       "      <td>ManuelGCubedo   bigdataconf DataScience Traini...</td>\n",
       "      <td>108</td>\n",
       "    </tr>\n",
       "    <tr>\n",
       "      <th>4</th>\n",
       "      <td>12/21/2015 18:45</td>\n",
       "      <td>0</td>\n",
       "      <td>0</td>\n",
       "      <td>Thanks AAASFellowships KatSongPR mention Movin...</td>\n",
       "      <td>203</td>\n",
       "    </tr>\n",
       "    <tr>\n",
       "      <th>5</th>\n",
       "      <td>12/21/2015 18:45</td>\n",
       "      <td>0</td>\n",
       "      <td>0</td>\n",
       "      <td>IEBigData airlines data insights measure loy...</td>\n",
       "      <td>91</td>\n",
       "    </tr>\n",
       "    <tr>\n",
       "      <th>6</th>\n",
       "      <td>12/21/2015 18:45</td>\n",
       "      <td>0</td>\n",
       "      <td>0</td>\n",
       "      <td>strataconf pacoid teaches prepare your organ...</td>\n",
       "      <td>102</td>\n",
       "    </tr>\n",
       "    <tr>\n",
       "      <th>8</th>\n",
       "      <td>12/21/2015 18:45</td>\n",
       "      <td>0</td>\n",
       "      <td>0</td>\n",
       "      <td>Angoss DataScience Driving Driverless   owly...</td>\n",
       "      <td>51</td>\n",
       "    </tr>\n",
       "    <tr>\n",
       "      <th>9</th>\n",
       "      <td>12/21/2015 18:45</td>\n",
       "      <td>0</td>\n",
       "      <td>0</td>\n",
       "      <td>Five DataScience Predictions   owlyWcn</td>\n",
       "      <td>38</td>\n",
       "    </tr>\n",
       "    <tr>\n",
       "      <th>10</th>\n",
       "      <td>12/21/2015 18:45</td>\n",
       "      <td>0</td>\n",
       "      <td>1</td>\n",
       "      <td>analyticbridge Berkeley DataScience Capstone...</td>\n",
       "      <td>168</td>\n",
       "    </tr>\n",
       "    <tr>\n",
       "      <th>12</th>\n",
       "      <td>12/21/2015 18:45</td>\n",
       "      <td>0</td>\n",
       "      <td>0</td>\n",
       "      <td>datascience Simple Process Real World Data S...</td>\n",
       "      <td>109</td>\n",
       "    </tr>\n",
       "    <tr>\n",
       "      <th>13</th>\n",
       "      <td>12/21/2015 18:45</td>\n",
       "      <td>0</td>\n",
       "      <td>0</td>\n",
       "      <td>stay ahead with datascience skills coursera u...</td>\n",
       "      <td>88</td>\n",
       "    </tr>\n",
       "    <tr>\n",
       "      <th>14</th>\n",
       "      <td>12/21/2015 18:45</td>\n",
       "      <td>0</td>\n",
       "      <td>0</td>\n",
       "      <td>Doing this mooc from DSIColumbia Statistical T...</td>\n",
       "      <td>167</td>\n",
       "    </tr>\n",
       "    <tr>\n",
       "      <th>15</th>\n",
       "      <td>12/21/2015 18:45</td>\n",
       "      <td>2</td>\n",
       "      <td>1</td>\n",
       "      <td>bobehayes touches everything alchemy bigdata...</td>\n",
       "      <td>82</td>\n",
       "    </tr>\n",
       "    <tr>\n",
       "      <th>16</th>\n",
       "      <td>12/21/2015 18:45</td>\n",
       "      <td>0</td>\n",
       "      <td>0</td>\n",
       "      <td>fastestgrowing language StackOverflow datasci...</td>\n",
       "      <td>127</td>\n",
       "    </tr>\n",
       "    <tr>\n",
       "      <th>17</th>\n",
       "      <td>12/21/2015 18:45</td>\n",
       "      <td>0</td>\n",
       "      <td>0</td>\n",
       "      <td>touches everything alchemy bigdata government...</td>\n",
       "      <td>71</td>\n",
       "    </tr>\n",
       "    <tr>\n",
       "      <th>19</th>\n",
       "      <td>12/21/2015 18:45</td>\n",
       "      <td>0</td>\n",
       "      <td>0</td>\n",
       "      <td>Ognyanova FiveThirtyEight Data Awards honori...</td>\n",
       "      <td>110</td>\n",
       "    </tr>\n",
       "    <tr>\n",
       "      <th>20</th>\n",
       "      <td>12/21/2015 18:44</td>\n",
       "      <td>1</td>\n",
       "      <td>2</td>\n",
       "      <td>Thanks mention MovingShaking Winter aaasorgnew...</td>\n",
       "      <td>172</td>\n",
       "    </tr>\n",
       "    <tr>\n",
       "      <th>22</th>\n",
       "      <td>12/21/2015 18:44</td>\n",
       "      <td>0</td>\n",
       "      <td>0</td>\n",
       "      <td>GeoMktFan   datascience mapinfo volutionne d...</td>\n",
       "      <td>120</td>\n",
       "    </tr>\n",
       "    <tr>\n",
       "      <th>26</th>\n",
       "      <td>12/21/2015 18:33</td>\n",
       "      <td>0</td>\n",
       "      <td>3</td>\n",
       "      <td>stay ahead with datascience skills   bitlyIjD...</td>\n",
       "      <td>61</td>\n",
       "    </tr>\n",
       "    <tr>\n",
       "      <th>27</th>\n",
       "      <td>12/21/2015 18:32</td>\n",
       "      <td>0</td>\n",
       "      <td>1</td>\n",
       "      <td>Doing this mooc from Statistical Thinking Data...</td>\n",
       "      <td>158</td>\n",
       "    </tr>\n",
       "    <tr>\n",
       "      <th>30</th>\n",
       "      <td>12/21/2015 18:30</td>\n",
       "      <td>0</td>\n",
       "      <td>0</td>\n",
       "      <td>kdnuggets DataScience Berkeley exploration l...</td>\n",
       "      <td>89</td>\n",
       "    </tr>\n",
       "    <tr>\n",
       "      <th>31</th>\n",
       "      <td>12/21/2015 18:30</td>\n",
       "      <td>0</td>\n",
       "      <td>0</td>\n",
       "      <td>Look Inside microsoft Batman Platform Prajna ...</td>\n",
       "      <td>100</td>\n",
       "    </tr>\n",
       "    <tr>\n",
       "      <th>32</th>\n",
       "      <td>12/21/2015 18:30</td>\n",
       "      <td>0</td>\n",
       "      <td>0</td>\n",
       "      <td>schmarzo Nice interview with KirkDBorne data...</td>\n",
       "      <td>112</td>\n",
       "    </tr>\n",
       "    <tr>\n",
       "      <th>33</th>\n",
       "      <td>12/21/2015 18:30</td>\n",
       "      <td>0</td>\n",
       "      <td>0</td>\n",
       "      <td>Check FiscalNote timthwang interview GovMatter...</td>\n",
       "      <td>102</td>\n",
       "    </tr>\n",
       "    <tr>\n",
       "      <th>34</th>\n",
       "      <td>12/21/2015 18:30</td>\n",
       "      <td>0</td>\n",
       "      <td>0</td>\n",
       "      <td>Nice interview with KirkDBorne datascience big...</td>\n",
       "      <td>104</td>\n",
       "    </tr>\n",
       "    <tr>\n",
       "      <th>35</th>\n",
       "      <td>12/21/2015 18:30</td>\n",
       "      <td>0</td>\n",
       "      <td>0</td>\n",
       "      <td>What kind data scientist mangosolutionscomrada...</td>\n",
       "      <td>79</td>\n",
       "    </tr>\n",
       "    <tr>\n",
       "      <th>36</th>\n",
       "      <td>12/21/2015 18:30</td>\n",
       "      <td>0</td>\n",
       "      <td>0</td>\n",
       "      <td>bobehayes KirkDBorne datascience bigdata ana...</td>\n",
       "      <td>91</td>\n",
       "    </tr>\n",
       "    <tr>\n",
       "      <th>38</th>\n",
       "      <td>12/21/2015 18:30</td>\n",
       "      <td>0</td>\n",
       "      <td>0</td>\n",
       "      <td>brasilianische Frauen   googlXfh Spain Podcas...</td>\n",
       "      <td>59</td>\n",
       "    </tr>\n",
       "    <tr>\n",
       "      <th>40</th>\n",
       "      <td>12/21/2015 18:30</td>\n",
       "      <td>0</td>\n",
       "      <td>0</td>\n",
       "      <td>KirkDBorne datascience bigdata analytics data ...</td>\n",
       "      <td>79</td>\n",
       "    </tr>\n",
       "    <tr>\n",
       "      <th>...</th>\n",
       "      <td>...</td>\n",
       "      <td>...</td>\n",
       "      <td>...</td>\n",
       "      <td>...</td>\n",
       "      <td>...</td>\n",
       "    </tr>\n",
       "    <tr>\n",
       "      <th>260490</th>\n",
       "      <td>12/14/2017 1:54</td>\n",
       "      <td>2</td>\n",
       "      <td>1</td>\n",
       "      <td>Gfycat says MachineLearning make more highres ...</td>\n",
       "      <td>123</td>\n",
       "    </tr>\n",
       "    <tr>\n",
       "      <th>260491</th>\n",
       "      <td>12/14/2017 1:54</td>\n",
       "      <td>0</td>\n",
       "      <td>3</td>\n",
       "      <td>whole vibe teams working together some great ...</td>\n",
       "      <td>87</td>\n",
       "    </tr>\n",
       "    <tr>\n",
       "      <th>260494</th>\n",
       "      <td>12/14/2017 1:47</td>\n",
       "      <td>0</td>\n",
       "      <td>1</td>\n",
       "      <td>latest Shinning Pakistan Daily paperliTarique...</td>\n",
       "      <td>94</td>\n",
       "    </tr>\n",
       "    <tr>\n",
       "      <th>260495</th>\n",
       "      <td>12/14/2017 1:46</td>\n",
       "      <td>0</td>\n",
       "      <td>0</td>\n",
       "      <td>Rbloggers Mapping production country wpmepMm...</td>\n",
       "      <td>69</td>\n",
       "    </tr>\n",
       "    <tr>\n",
       "      <th>260496</th>\n",
       "      <td>12/14/2017 1:45</td>\n",
       "      <td>1</td>\n",
       "      <td>2</td>\n",
       "      <td>Spotfire connects people data focusing collabo...</td>\n",
       "      <td>120</td>\n",
       "    </tr>\n",
       "    <tr>\n",
       "      <th>260498</th>\n",
       "      <td>12/14/2017 1:44</td>\n",
       "      <td>0</td>\n",
       "      <td>0</td>\n",
       "      <td>High demand DataScience Skills Jobs pictwitter...</td>\n",
       "      <td>57</td>\n",
       "    </tr>\n",
       "    <tr>\n",
       "      <th>260500</th>\n",
       "      <td>12/14/2017 1:41</td>\n",
       "      <td>0</td>\n",
       "      <td>2</td>\n",
       "      <td>Analytics analyticsjobs DataScientist DataScie...</td>\n",
       "      <td>104</td>\n",
       "    </tr>\n",
       "    <tr>\n",
       "      <th>260501</th>\n",
       "      <td>12/14/2017 1:40</td>\n",
       "      <td>0</td>\n",
       "      <td>0</td>\n",
       "      <td>Sandvik Machining Solutions looking remote Dat...</td>\n",
       "      <td>161</td>\n",
       "    </tr>\n",
       "    <tr>\n",
       "      <th>260502</th>\n",
       "      <td>12/14/2017 1:38</td>\n",
       "      <td>1</td>\n",
       "      <td>0</td>\n",
       "      <td>apply after been fired bufflyoxHR BusinessTra...</td>\n",
       "      <td>193</td>\n",
       "    </tr>\n",
       "    <tr>\n",
       "      <th>260503</th>\n",
       "      <td>12/14/2017 1:36</td>\n",
       "      <td>0</td>\n",
       "      <td>1</td>\n",
       "      <td>explore BigData despite past doubts DataScien...</td>\n",
       "      <td>94</td>\n",
       "    </tr>\n",
       "    <tr>\n",
       "      <th>260504</th>\n",
       "      <td>12/14/2017 1:36</td>\n",
       "      <td>0</td>\n",
       "      <td>1</td>\n",
       "      <td>tfkohler Great Read Data Algorithms Which Mo...</td>\n",
       "      <td>211</td>\n",
       "    </tr>\n",
       "    <tr>\n",
       "      <th>260505</th>\n",
       "      <td>12/14/2017 1:36</td>\n",
       "      <td>2</td>\n",
       "      <td>3</td>\n",
       "      <td>Applications ArtificialIntelligence MachineLea...</td>\n",
       "      <td>175</td>\n",
       "    </tr>\n",
       "    <tr>\n",
       "      <th>260506</th>\n",
       "      <td>12/14/2017 1:34</td>\n",
       "      <td>2</td>\n",
       "      <td>3</td>\n",
       "      <td>apply after been fired bufflyoxHR BusinessTra...</td>\n",
       "      <td>205</td>\n",
       "    </tr>\n",
       "    <tr>\n",
       "      <th>260507</th>\n",
       "      <td>12/14/2017 1:33</td>\n",
       "      <td>0</td>\n",
       "      <td>4</td>\n",
       "      <td>While business trip feel business possibilitie...</td>\n",
       "      <td>219</td>\n",
       "    </tr>\n",
       "    <tr>\n",
       "      <th>260509</th>\n",
       "      <td>12/14/2017 1:30</td>\n",
       "      <td>0</td>\n",
       "      <td>0</td>\n",
       "      <td>reasons insurance industry challenged BigData ...</td>\n",
       "      <td>222</td>\n",
       "    </tr>\n",
       "    <tr>\n",
       "      <th>260510</th>\n",
       "      <td>12/14/2017 1:30</td>\n",
       "      <td>0</td>\n",
       "      <td>1</td>\n",
       "      <td>Types Data Analytics   bitlyfMtRxI Analytics ...</td>\n",
       "      <td>99</td>\n",
       "    </tr>\n",
       "    <tr>\n",
       "      <th>260513</th>\n",
       "      <td>12/14/2017 1:29</td>\n",
       "      <td>0</td>\n",
       "      <td>0</td>\n",
       "      <td>latest Siegefire Report paperliSiegefireedit ...</td>\n",
       "      <td>72</td>\n",
       "    </tr>\n",
       "    <tr>\n",
       "      <th>260514</th>\n",
       "      <td>12/14/2017 1:28</td>\n",
       "      <td>3</td>\n",
       "      <td>4</td>\n",
       "      <td>Have checked FREE dataset Download more than U...</td>\n",
       "      <td>206</td>\n",
       "    </tr>\n",
       "    <tr>\n",
       "      <th>260517</th>\n",
       "      <td>12/14/2017 1:23</td>\n",
       "      <td>0</td>\n",
       "      <td>1</td>\n",
       "      <td>latest Marco Pederzini Daily paperlimarcopede...</td>\n",
       "      <td>89</td>\n",
       "    </tr>\n",
       "    <tr>\n",
       "      <th>260519</th>\n",
       "      <td>12/14/2017 1:21</td>\n",
       "      <td>0</td>\n",
       "      <td>0</td>\n",
       "      <td>Using Artificial Intelligence Social Good Data...</td>\n",
       "      <td>79</td>\n",
       "    </tr>\n",
       "    <tr>\n",
       "      <th>260522</th>\n",
       "      <td>12/14/2017 1:16</td>\n",
       "      <td>0</td>\n",
       "      <td>0</td>\n",
       "      <td>RonaldvanLoon Natural Language Processing Ap...</td>\n",
       "      <td>129</td>\n",
       "    </tr>\n",
       "    <tr>\n",
       "      <th>260523</th>\n",
       "      <td>12/14/2017 1:16</td>\n",
       "      <td>4</td>\n",
       "      <td>7</td>\n",
       "      <td>Website reviews Amazon reviews including doing...</td>\n",
       "      <td>160</td>\n",
       "    </tr>\n",
       "    <tr>\n",
       "      <th>260524</th>\n",
       "      <td>12/14/2017 1:16</td>\n",
       "      <td>0</td>\n",
       "      <td>0</td>\n",
       "      <td>AnacondaCON Harness Power Data Science Austin ...</td>\n",
       "      <td>75</td>\n",
       "    </tr>\n",
       "    <tr>\n",
       "      <th>260526</th>\n",
       "      <td>12/14/2017 1:12</td>\n",
       "      <td>1</td>\n",
       "      <td>0</td>\n",
       "      <td>ways counting that data systems harming socie...</td>\n",
       "      <td>103</td>\n",
       "    </tr>\n",
       "    <tr>\n",
       "      <th>260527</th>\n",
       "      <td>12/14/2017 1:10</td>\n",
       "      <td>2</td>\n",
       "      <td>0</td>\n",
       "      <td>Natural Language Processing Approach Data Exp...</td>\n",
       "      <td>90</td>\n",
       "    </tr>\n",
       "    <tr>\n",
       "      <th>260528</th>\n",
       "      <td>12/14/2017 1:08</td>\n",
       "      <td>1</td>\n",
       "      <td>1</td>\n",
       "      <td>DataScience Advent Calendar tableau datahoteli...</td>\n",
       "      <td>55</td>\n",
       "    </tr>\n",
       "    <tr>\n",
       "      <th>260531</th>\n",
       "      <td>12/14/2017 1:06</td>\n",
       "      <td>0</td>\n",
       "      <td>0</td>\n",
       "      <td>RajaBommedeni What DataScience SocialMedia m...</td>\n",
       "      <td>137</td>\n",
       "    </tr>\n",
       "    <tr>\n",
       "      <th>260532</th>\n",
       "      <td>12/14/2017 1:06</td>\n",
       "      <td>0</td>\n",
       "      <td>0</td>\n",
       "      <td>pansares find value steps with BigData NoSQL...</td>\n",
       "      <td>145</td>\n",
       "    </tr>\n",
       "    <tr>\n",
       "      <th>260534</th>\n",
       "      <td>12/14/2017 1:03</td>\n",
       "      <td>0</td>\n",
       "      <td>0</td>\n",
       "      <td>appwebtechTen steps toward autonomous urbani...</td>\n",
       "      <td>123</td>\n",
       "    </tr>\n",
       "    <tr>\n",
       "      <th>260535</th>\n",
       "      <td>12/14/2017 1:03</td>\n",
       "      <td>0</td>\n",
       "      <td>0</td>\n",
       "      <td>appwebtech steps toward autonomous urbanism ...</td>\n",
       "      <td>112</td>\n",
       "    </tr>\n",
       "  </tbody>\n",
       "</table>\n",
       "<p>212470 rows × 5 columns</p>\n",
       "</div>"
      ],
      "text/plain": [
       "                 Created  Retweet  Likes  \\\n",
       "0       12/21/2015 18:55        0      5   \n",
       "1       12/21/2015 18:51        1      2   \n",
       "2       12/21/2015 18:48        0      1   \n",
       "3       12/21/2015 18:47        0      0   \n",
       "4       12/21/2015 18:45        0      0   \n",
       "5       12/21/2015 18:45        0      0   \n",
       "6       12/21/2015 18:45        0      0   \n",
       "8       12/21/2015 18:45        0      0   \n",
       "9       12/21/2015 18:45        0      0   \n",
       "10      12/21/2015 18:45        0      1   \n",
       "12      12/21/2015 18:45        0      0   \n",
       "13      12/21/2015 18:45        0      0   \n",
       "14      12/21/2015 18:45        0      0   \n",
       "15      12/21/2015 18:45        2      1   \n",
       "16      12/21/2015 18:45        0      0   \n",
       "17      12/21/2015 18:45        0      0   \n",
       "19      12/21/2015 18:45        0      0   \n",
       "20      12/21/2015 18:44        1      2   \n",
       "22      12/21/2015 18:44        0      0   \n",
       "26      12/21/2015 18:33        0      3   \n",
       "27      12/21/2015 18:32        0      1   \n",
       "30      12/21/2015 18:30        0      0   \n",
       "31      12/21/2015 18:30        0      0   \n",
       "32      12/21/2015 18:30        0      0   \n",
       "33      12/21/2015 18:30        0      0   \n",
       "34      12/21/2015 18:30        0      0   \n",
       "35      12/21/2015 18:30        0      0   \n",
       "36      12/21/2015 18:30        0      0   \n",
       "38      12/21/2015 18:30        0      0   \n",
       "40      12/21/2015 18:30        0      0   \n",
       "...                  ...      ...    ...   \n",
       "260490   12/14/2017 1:54        2      1   \n",
       "260491   12/14/2017 1:54        0      3   \n",
       "260494   12/14/2017 1:47        0      1   \n",
       "260495   12/14/2017 1:46        0      0   \n",
       "260496   12/14/2017 1:45        1      2   \n",
       "260498   12/14/2017 1:44        0      0   \n",
       "260500   12/14/2017 1:41        0      2   \n",
       "260501   12/14/2017 1:40        0      0   \n",
       "260502   12/14/2017 1:38        1      0   \n",
       "260503   12/14/2017 1:36        0      1   \n",
       "260504   12/14/2017 1:36        0      1   \n",
       "260505   12/14/2017 1:36        2      3   \n",
       "260506   12/14/2017 1:34        2      3   \n",
       "260507   12/14/2017 1:33        0      4   \n",
       "260509   12/14/2017 1:30        0      0   \n",
       "260510   12/14/2017 1:30        0      1   \n",
       "260513   12/14/2017 1:29        0      0   \n",
       "260514   12/14/2017 1:28        3      4   \n",
       "260517   12/14/2017 1:23        0      1   \n",
       "260519   12/14/2017 1:21        0      0   \n",
       "260522   12/14/2017 1:16        0      0   \n",
       "260523   12/14/2017 1:16        4      7   \n",
       "260524   12/14/2017 1:16        0      0   \n",
       "260526   12/14/2017 1:12        1      0   \n",
       "260527   12/14/2017 1:10        2      0   \n",
       "260528   12/14/2017 1:08        1      1   \n",
       "260531   12/14/2017 1:06        0      0   \n",
       "260532   12/14/2017 1:06        0      0   \n",
       "260534   12/14/2017 1:03        0      0   \n",
       "260535   12/14/2017 1:03        0      0   \n",
       "\n",
       "                                             Cleaned_Text  Text Length  \n",
       "0        Very Hadoopy Christmas   hortonworkscomblogav...          104  \n",
       "1        keep good customers fire customers dont need ...           80  \n",
       "2       Improving Fingerprinting Machine Learning acad...          142  \n",
       "3       ManuelGCubedo   bigdataconf DataScience Traini...          108  \n",
       "4       Thanks AAASFellowships KatSongPR mention Movin...          203  \n",
       "5         IEBigData airlines data insights measure loy...           91  \n",
       "6         strataconf pacoid teaches prepare your organ...          102  \n",
       "8         Angoss DataScience Driving Driverless   owly...           51  \n",
       "9                  Five DataScience Predictions   owlyWcn           38  \n",
       "10        analyticbridge Berkeley DataScience Capstone...          168  \n",
       "12        datascience Simple Process Real World Data S...          109  \n",
       "13       stay ahead with datascience skills coursera u...           88  \n",
       "14      Doing this mooc from DSIColumbia Statistical T...          167  \n",
       "15        bobehayes touches everything alchemy bigdata...           82  \n",
       "16       fastestgrowing language StackOverflow datasci...          127  \n",
       "17       touches everything alchemy bigdata government...           71  \n",
       "19        Ognyanova FiveThirtyEight Data Awards honori...          110  \n",
       "20      Thanks mention MovingShaking Winter aaasorgnew...          172  \n",
       "22        GeoMktFan   datascience mapinfo volutionne d...          120  \n",
       "26       stay ahead with datascience skills   bitlyIjD...           61  \n",
       "27      Doing this mooc from Statistical Thinking Data...          158  \n",
       "30        kdnuggets DataScience Berkeley exploration l...           89  \n",
       "31       Look Inside microsoft Batman Platform Prajna ...          100  \n",
       "32        schmarzo Nice interview with KirkDBorne data...          112  \n",
       "33      Check FiscalNote timthwang interview GovMatter...          102  \n",
       "34      Nice interview with KirkDBorne datascience big...          104  \n",
       "35      What kind data scientist mangosolutionscomrada...           79  \n",
       "36        bobehayes KirkDBorne datascience bigdata ana...           91  \n",
       "38       brasilianische Frauen   googlXfh Spain Podcas...           59  \n",
       "40      KirkDBorne datascience bigdata analytics data ...           79  \n",
       "...                                                   ...          ...  \n",
       "260490  Gfycat says MachineLearning make more highres ...          123  \n",
       "260491   whole vibe teams working together some great ...           87  \n",
       "260494   latest Shinning Pakistan Daily paperliTarique...           94  \n",
       "260495    Rbloggers Mapping production country wpmepMm...           69  \n",
       "260496  Spotfire connects people data focusing collabo...          120  \n",
       "260498  High demand DataScience Skills Jobs pictwitter...           57  \n",
       "260500  Analytics analyticsjobs DataScientist DataScie...          104  \n",
       "260501  Sandvik Machining Solutions looking remote Dat...          161  \n",
       "260502   apply after been fired bufflyoxHR BusinessTra...          193  \n",
       "260503   explore BigData despite past doubts DataScien...           94  \n",
       "260504    tfkohler Great Read Data Algorithms Which Mo...          211  \n",
       "260505  Applications ArtificialIntelligence MachineLea...          175  \n",
       "260506   apply after been fired bufflyoxHR BusinessTra...          205  \n",
       "260507  While business trip feel business possibilitie...          219  \n",
       "260509  reasons insurance industry challenged BigData ...          222  \n",
       "260510   Types Data Analytics   bitlyfMtRxI Analytics ...           99  \n",
       "260513   latest Siegefire Report paperliSiegefireedit ...           72  \n",
       "260514  Have checked FREE dataset Download more than U...          206  \n",
       "260517   latest Marco Pederzini Daily paperlimarcopede...           89  \n",
       "260519  Using Artificial Intelligence Social Good Data...           79  \n",
       "260522    RonaldvanLoon Natural Language Processing Ap...          129  \n",
       "260523  Website reviews Amazon reviews including doing...          160  \n",
       "260524  AnacondaCON Harness Power Data Science Austin ...           75  \n",
       "260526   ways counting that data systems harming socie...          103  \n",
       "260527   Natural Language Processing Approach Data Exp...           90  \n",
       "260528  DataScience Advent Calendar tableau datahoteli...           55  \n",
       "260531    RajaBommedeni What DataScience SocialMedia m...          137  \n",
       "260532    pansares find value steps with BigData NoSQL...          145  \n",
       "260534    appwebtechTen steps toward autonomous urbani...          123  \n",
       "260535    appwebtech steps toward autonomous urbanism ...          112  \n",
       "\n",
       "[212470 rows x 5 columns]"
      ]
     },
     "execution_count": 151,
     "metadata": {},
     "output_type": "execute_result"
    }
   ],
   "source": [
    "data_after_outlier.drop(columns = ['Text'],inplace=True,axis = 1)\n",
    "\n",
    "d#ata_after_outlier\n",
    "\n",
    "#print(max(data_after_outlier))\n"
   ]
  },
  {
   "cell_type": "code",
   "execution_count": 42,
   "metadata": {},
   "outputs": [],
   "source": [
    "data_after_outlier = data_after_outlier.drop_duplicates(subset=\"Cleaned_Text\")"
   ]
  },
  {
   "cell_type": "markdown",
   "metadata": {},
   "source": [
    "# Word Count Analysis"
   ]
  },
  {
   "cell_type": "code",
   "execution_count": 152,
   "metadata": {},
   "outputs": [],
   "source": [
    "import numpy as np\n",
    "def WordCount_Features_Hist(word_Count): \n",
    "    k=1\n",
    "    for i in ['Retweet','Likes']:\n",
    "        temp = data_after_outlier.groupby(data_after_outlier[word_Count]).mean()[i]\n",
    "        plt.subplot(3,1,k)\n",
    "        temp.plot.bar()\n",
    "        plt.title('{} frequency'.format(i,word_Count))\n",
    "        k = k+2\n",
    "\n",
    "\n"
   ]
  },
  {
   "cell_type": "code",
   "execution_count": 153,
   "metadata": {
    "collapsed": true
   },
   "outputs": [
    {
     "name": "stderr",
     "output_type": "stream",
     "text": [
      "C:\\Users\\ganch\\Anaconda3\\lib\\site-packages\\ipykernel_launcher.py:3: SettingWithCopyWarning: \n",
      "A value is trying to be set on a copy of a slice from a DataFrame.\n",
      "Try using .loc[row_indexer,col_indexer] = value instead\n",
      "\n",
      "See the caveats in the documentation: http://pandas.pydata.org/pandas-docs/stable/indexing.html#indexing-view-versus-copy\n",
      "  This is separate from the ipykernel package so we can avoid doing imports until\n"
     ]
    },
    {
     "data": {
      "image/png": "[encoded data removed]",
      "text/plain": [
       "<Figure size 576x288 with 2 Axes>"
      ]
     },
     "metadata": {
      "needs_background": "light"
     },
     "output_type": "display_data"
    }
   ],
   "source": [
    "import matplotlib.pyplot as plt\n",
    "word_Count = 'Word Count'\n",
    "data_after_outlier[word_Count] = data_after_outlier['Cleaned_Text'].str.split().apply(len)\n",
    "data_after_outlier.head(10)\n",
    "WordCount_Features_Hist(word_Count)"
   ]
  },
  {
   "cell_type": "code",
   "execution_count": 154,
   "metadata": {},
   "outputs": [],
   "source": [
    "def top_like_retweet_words():\n",
    "    k=1\n",
    "    plt.figure(figsize=(10, 20))\n",
    "    for i in ['Retweet','Likes']:\n",
    "        PERCENTAGE = 25\n",
    "        title_stat_top = data_after_outlier.sort_values(by=[i], ascending=False).head(int(len(data_after_outlier)*(PERCENTAGE/100.00)))\n",
    "        x = pd.DataFrame({\n",
    "                col:np.repeat(title_stat_top[col].values, title_stat_top['Words'].str.len())\n",
    "                for col in title_stat_top.columns.difference(['Words'])\n",
    "            }).assign(**{'Words':np.concatenate(title_stat_top['Words'].values)})[title_stat_top.columns.tolist()]\n",
    "        temp = x.groupby('Words').count()[i].sort_values(ascending=False).head(20).sort_values(ascending=True)\n",
    "        plt.subplot(3,1,k)\n",
    "        temp.plot.barh()\n",
    "        k = k+1\n",
    "        #sns.despine()\n",
    "        plt.title('Most used {} on top {}% {}'.format('Words', PERCENTAGE, i));"
   ]
  },
  {
   "cell_type": "markdown",
   "metadata": {},
   "source": [
    "# Top Words"
   ]
  },
  {
   "cell_type": "code",
   "execution_count": 155,
   "metadata": {
    "collapsed": true
   },
   "outputs": [
    {
     "name": "stderr",
     "output_type": "stream",
     "text": [
      "C:\\Users\\ganch\\Anaconda3\\lib\\site-packages\\ipykernel_launcher.py:7: SettingWithCopyWarning: \n",
      "A value is trying to be set on a copy of a slice from a DataFrame.\n",
      "Try using .loc[row_indexer,col_indexer] = value instead\n",
      "\n",
      "See the caveats in the documentation: http://pandas.pydata.org/pandas-docs/stable/indexing.html#indexing-view-versus-copy\n",
      "  import sys\n"
     ]
    },
    {
     "data": {
      "image/png": "[encoded data removed]",
      "text/plain": [
       "<Figure size 720x1440 with 2 Axes>"
      ]
     },
     "metadata": {
      "needs_background": "light"
     },
     "output_type": "display_data"
    }
   ],
   "source": [
    "import nltk\n",
    "import numpy as np\n",
    "split_Text = data_after_outlier['Cleaned_Text'].str.lower().str.split()\n",
    "# temp = title_stat['Title'].str.lower().str.split()\n",
    "# remove common words (it, a, the, ...)\n",
    "stop=set(nltk.corpus.stopwords.words('english'))\n",
    "data_after_outlier['Words'] = split_Text.apply(lambda x: [item for item in x if item not in stop and not '\\\\' in item])\n",
    "top_like_retweet_words()"
   ]
  },
  {
   "cell_type": "markdown",
   "metadata": {},
   "source": [
    "# Drop Duplicates"
   ]
  },
  {
   "cell_type": "code",
   "execution_count": 156,
   "metadata": {},
   "outputs": [],
   "source": [
    "data_after_outlier = data_after_outlier[data_after_outlier.Retweet != 0]\n",
    "data_after_outlier = data_after_outlier[data_after_outlier.Likes != 0]"
   ]
  },
  {
   "cell_type": "markdown",
   "metadata": {},
   "source": [
    "# Binning"
   ]
  },
  {
   "cell_type": "code",
   "execution_count": 159,
   "metadata": {},
   "outputs": [],
   "source": [
    "bins = [0,1,2,5,10000]\n",
    "label = [1,2,3,4]\n",
    "\n",
    "#data_after_outlier['binned_Retweet'] = pd.cut(data_after_outlier['Retweet'], bins)\n",
    "data_after_outlier['bin_class_Retweet'] = pd.cut(data_after_outlier['Retweet'], bins, labels=label)\n",
    "\n",
    "#data_after_outlier['binned_Likes'] = pd.cut(data_after_outlier['Likes'], bins)\n",
    "data_after_outlier['bin_class_Likes'] = pd.cut(data_after_outlier['Likes'], bins, labels=label)\n",
    "\n",
    "\n",
    "\n"
   ]
  }
 ],
 "metadata": {
  "kernelspec": {
   "display_name": "Python 3",
   "language": "python",
   "name": "python3"
  },
  "language_info": {
   "codemirror_mode": {
    "name": "ipython",
    "version": 3
   },
   "file_extension": ".py",
   "mimetype": "text/x-python",
   "name": "python",
   "nbconvert_exporter": "python",
   "pygments_lexer": "ipython3",
   "version": "3.6.8"
  }
 },
 "nbformat": 4,
 "nbformat_minor": 2
}
